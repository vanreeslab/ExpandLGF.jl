{
 "cells": [
  {
   "cell_type": "code",
   "execution_count": 68,
   "metadata": {},
   "outputs": [],
   "source": [
    "using ExpandLGF\n",
    "using AbstractAlgebra\n",
    "using Symbolics"
   ]
  },
  {
   "attachments": {},
   "cell_type": "markdown",
   "metadata": {},
   "source": [
    "### Common Parameters"
   ]
  },
  {
   "cell_type": "code",
   "execution_count": 69,
   "metadata": {},
   "outputs": [],
   "source": [
    "# Tolerances for determining the correct applicability range\n",
    "rtol = 0\n",
    "atol = 1e-15\n",
    "\n",
    "# Polynomial spaces for AbstractAlgebra.jl\n",
    "PR2, _ = QQ[\"n1\", \"n2\"]\n",
    "PR3, _ = QQ[\"n1\", \"n2\", \"n3\"]\n",
    "\n",
    "mkpath(\"../flups\");"
   ]
  },
  {
   "attachments": {},
   "cell_type": "markdown",
   "metadata": {},
   "source": [
    "### 3D Expansions"
   ]
  },
  {
   "cell_type": "code",
   "execution_count": 70,
   "metadata": {},
   "outputs": [
    {
     "name": "stdout",
     "output_type": "stream",
     "text": [
      "LGF2 3D expansion with 4 terms meets error tolerance for n >= 36\n"
     ]
    }
   ],
   "source": [
    "###\n",
    "# LGF2 3D Expansion\n",
    "###\n",
    "stencil = ExpandLGF.StandardDifference3D(2)\n",
    "\n",
    "lgf2_3d_nterms = 4\n",
    "lgf2_3d_expand = ExpandLGF.far_field_expansion_coeffs(stencil, lgf2_3d_nterms + 1, PR3)\n",
    "lgf2_3d_cutoff = ExpandLGF.far_field_errors(lgf2_3d_expand; rtol = rtol, atol = atol, search = 500)\n",
    "lgf2_3d_ccode  = ExpandLGF.far_field_3d_expansion(lgf2_3d_expand[1:end-1], Symbolics.CTarget())\n",
    "\n",
    "println(\"LGF2 3D expansion with $(lgf2_3d_nterms) terms meets error tolerance for n >= $(lgf2_3d_cutoff)\")"
   ]
  },
  {
   "cell_type": "code",
   "execution_count": 71,
   "metadata": {},
   "outputs": [
    {
     "name": "stdout",
     "output_type": "stream",
     "text": [
      "LGF4 3Dexpansion with 4 terms meets error tolerance for n >= 33\n"
     ]
    }
   ],
   "source": [
    "###\n",
    "# LGF4 3D Expansion\n",
    "###\n",
    "stencil = ExpandLGF.StandardDifference3D(4)\n",
    "\n",
    "lgf4_3d_nterms = 4\n",
    "lgf4_3d_expand = ExpandLGF.far_field_expansion_coeffs(stencil, lgf4_3d_nterms + 1, PR3)\n",
    "lgf4_3d_cutoff = ExpandLGF.far_field_errors(lgf4_3d_expand; rtol = rtol, atol = atol, search = 500)\n",
    "lgf4_3d_ccode  = ExpandLGF.far_field_3d_expansion(lgf4_3d_expand[1:end-1], Symbolics.CTarget())\n",
    "\n",
    "println(\"LGF4 3Dexpansion with $(lgf4_3d_nterms) terms meets error tolerance for n >= $(lgf4_3d_cutoff)\")"
   ]
  },
  {
   "cell_type": "code",
   "execution_count": 72,
   "metadata": {},
   "outputs": [
    {
     "name": "stdout",
     "output_type": "stream",
     "text": [
      "LGF6 3D expansion with 4 terms meets error tolerance for n >= 30\n"
     ]
    }
   ],
   "source": [
    "###\n",
    "# LGF6 3D Expansion\n",
    "###\n",
    "stencil = ExpandLGF.StandardDifference3D(6)\n",
    "\n",
    "lgf6_3d_nterms = 4\n",
    "lgf6_3d_expand = ExpandLGF.far_field_expansion_coeffs(stencil, lgf6_3d_nterms + 1, PR3)\n",
    "lgf6_3d_cutoff = ExpandLGF.far_field_errors(lgf6_3d_expand; rtol = rtol, atol = atol, search = 500)\n",
    "lgf6_3d_ccode  = ExpandLGF.far_field_3d_expansion(lgf6_3d_expand[1:end-1], Symbolics.CTarget())\n",
    "\n",
    "println(\"LGF6 3D expansion with $(lgf6_3d_nterms) terms meets error tolerance for n >= $(lgf6_3d_cutoff)\")"
   ]
  },
  {
   "cell_type": "code",
   "execution_count": 73,
   "metadata": {},
   "outputs": [
    {
     "name": "stdout",
     "output_type": "stream",
     "text": [
      "LGF8 3D expansion with 4 terms meets error tolerance for n >= 34\n"
     ]
    }
   ],
   "source": [
    "###\n",
    "# LGF8 3D Expansion\n",
    "###\n",
    "stencil = ExpandLGF.StandardDifference3D(8)\n",
    "\n",
    "lgf8_3d_nterms = 4\n",
    "lgf8_3d_expand = ExpandLGF.far_field_expansion_coeffs(stencil, lgf8_3d_nterms + 1, PR3)\n",
    "lgf8_3d_cutoff = ExpandLGF.far_field_errors(lgf8_3d_expand; rtol = rtol, atol = atol, search = 500)\n",
    "lgf8_3d_ccode  = ExpandLGF.far_field_3d_expansion(lgf8_3d_expand[1:end-1], Symbolics.CTarget())\n",
    "\n",
    "println(\"LGF8 3D expansion with $(lgf8_3d_nterms) terms meets error tolerance for n >= $(lgf8_3d_cutoff)\")"
   ]
  },
  {
   "attachments": {},
   "cell_type": "markdown",
   "metadata": {},
   "source": [
    "### 2D Expansions"
   ]
  },
  {
   "cell_type": "code",
   "execution_count": 74,
   "metadata": {},
   "outputs": [
    {
     "name": "stdout",
     "output_type": "stream",
     "text": [
      "LGF2 2D expansion with 5 terms meets error tolerance for n >= 33\n"
     ]
    }
   ],
   "source": [
    "###\n",
    "# LGF2 2D Expansion\n",
    "###\n",
    "stencil = ExpandLGF.StandardDifference2D(2)\n",
    "\n",
    "lgf2_2d_nterms = 5\n",
    "lgf2_2d_expand = ExpandLGF.far_field_expansion_coeffs(stencil, lgf2_2d_nterms + 1, PR2)\n",
    "lgf2_2d_cutoff = ExpandLGF.far_field_errors(lgf2_2d_expand; rtol = rtol, atol = atol, search = 500)\n",
    "lgf2_2d_ccode  = ExpandLGF.far_field_2d_expansion(lgf2_2d_expand[1:end-1], Symbolics.CTarget())\n",
    "\n",
    "println(\"LGF2 2D expansion with $(lgf2_2d_nterms) terms meets error tolerance for n >= $(lgf2_2d_cutoff)\")"
   ]
  },
  {
   "cell_type": "code",
   "execution_count": 75,
   "metadata": {},
   "outputs": [
    {
     "name": "stdout",
     "output_type": "stream",
     "text": [
      "LGF4 2D expansion with 5 terms meets error tolerance for n >= 31\n"
     ]
    }
   ],
   "source": [
    "###\n",
    "# LGF4 2D Expansion\n",
    "###\n",
    "stencil = ExpandLGF.StandardDifference2D(4)\n",
    "\n",
    "lgf4_2d_nterms = 5\n",
    "lgf4_2d_expand = ExpandLGF.far_field_expansion_coeffs(stencil, lgf4_2d_nterms + 1, PR2)\n",
    "lgf4_2d_cutoff = ExpandLGF.far_field_errors(lgf4_2d_expand; rtol = rtol, atol = atol, search = 500)\n",
    "lgf4_2d_ccode  = ExpandLGF.far_field_2d_expansion(lgf4_2d_expand[1:end-1], Symbolics.CTarget())\n",
    "\n",
    "println(\"LGF4 2D expansion with $(lgf4_2d_nterms) terms meets error tolerance for n >= $(lgf4_2d_cutoff)\")"
   ]
  },
  {
   "cell_type": "code",
   "execution_count": 76,
   "metadata": {},
   "outputs": [
    {
     "name": "stdout",
     "output_type": "stream",
     "text": [
      "LGF6 2D expansion with 5 terms meets error tolerance for n >= 31\n"
     ]
    }
   ],
   "source": [
    "###\n",
    "# LGF6 2D Expansion\n",
    "###\n",
    "stencil = ExpandLGF.StandardDifference2D(6)\n",
    "\n",
    "lgf6_2d_nterms = 5\n",
    "lgf6_2d_expand = ExpandLGF.far_field_expansion_coeffs(stencil, lgf6_2d_nterms + 1, PR2)\n",
    "lgf6_2d_cutoff = ExpandLGF.far_field_errors(lgf6_2d_expand; rtol = rtol, atol = atol, search = 500)\n",
    "lgf6_2d_ccode  = ExpandLGF.far_field_2d_expansion(lgf6_2d_expand[1:end-1], Symbolics.CTarget())\n",
    "\n",
    "println(\"LGF6 2D expansion with $(lgf6_2d_nterms) terms meets error tolerance for n >= $(lgf6_2d_cutoff)\")"
   ]
  },
  {
   "cell_type": "code",
   "execution_count": 77,
   "metadata": {},
   "outputs": [
    {
     "name": "stdout",
     "output_type": "stream",
     "text": [
      "LGF8 2D expansion with 5 terms meets error tolerance for n >= 30\n"
     ]
    }
   ],
   "source": [
    "###\n",
    "# LGF8 2D Expansion\n",
    "###\n",
    "stencil = ExpandLGF.StandardDifference2D(8)\n",
    "\n",
    "lgf8_2d_nterms = 5\n",
    "lgf8_2d_expand = ExpandLGF.far_field_expansion_coeffs(stencil, lgf8_2d_nterms + 1, PR2)\n",
    "lgf8_2d_cutoff = ExpandLGF.far_field_errors(lgf8_2d_expand; rtol = rtol, atol = atol, search = 500)\n",
    "lgf8_2d_ccode  = ExpandLGF.far_field_2d_expansion(lgf8_2d_expand[1:end-1], Symbolics.CTarget())\n",
    "\n",
    "println(\"LGF8 2D expansion with $(lgf8_2d_nterms) terms meets error tolerance for n >= $(lgf8_2d_cutoff)\")"
   ]
  },
  {
   "attachments": {},
   "cell_type": "markdown",
   "metadata": {},
   "source": [
    "### Mehrstellen Stencils"
   ]
  },
  {
   "cell_type": "code",
   "execution_count": 78,
   "metadata": {},
   "outputs": [
    {
     "name": "stdout",
     "output_type": "stream",
     "text": [
      "Mehrstellen 4 Left 3D expansion with 4 terms meets error tolerance for n >= 24\n"
     ]
    }
   ],
   "source": [
    "###\n",
    "# Left Mehrstellen 4 3D Expansion\n",
    "###\n",
    "stencil = ExpandLGF.LeftMehrstellen4()\n",
    "\n",
    "meh4_left_3d_nterms = 4\n",
    "meh4_left_3d_expand = ExpandLGF.far_field_expansion_coeffs(stencil, meh4_left_3d_nterms + 1, PR3)\n",
    "meh4_left_3d_cutoff = ExpandLGF.far_field_errors(meh4_left_3d_expand; rtol = rtol, atol = atol, search = 500)\n",
    "meh4_left_3d_ccode  = ExpandLGF.far_field_3d_expansion(meh4_left_3d_expand[1:end-1], Symbolics.CTarget())\n",
    "\n",
    "println(\"Mehrstellen 4 Left 3D expansion with $(meh4_left_3d_nterms) terms meets error tolerance for n >= $(meh4_left_3d_cutoff)\")"
   ]
  },
  {
   "cell_type": "code",
   "execution_count": 79,
   "metadata": {},
   "outputs": [
    {
     "name": "stdout",
     "output_type": "stream",
     "text": [
      "Mehrstellen 6 Left 3D expansion with 4 terms meets error tolerance for n >= 25\n"
     ]
    }
   ],
   "source": [
    "###\n",
    "# Left Mehrstellen 6 3D Expansion\n",
    "###\n",
    "stencil = ExpandLGF.LeftMehrstellen6()\n",
    "\n",
    "meh6_left_3d_nterms = 4\n",
    "meh6_left_3d_expand = ExpandLGF.far_field_expansion_coeffs(stencil, meh6_left_3d_nterms + 1, PR3)\n",
    "meh6_left_3d_cutoff = ExpandLGF.far_field_errors(meh6_left_3d_expand; rtol = rtol, atol = atol, search = 500)\n",
    "meh6_left_3d_ccode  = ExpandLGF.far_field_3d_expansion(meh6_left_3d_expand[1:end-1], Symbolics.CTarget())\n",
    "\n",
    "println(\"Mehrstellen 6 Left 3D expansion with $(meh6_left_3d_nterms) terms meets error tolerance for n >= $(meh6_left_3d_cutoff)\")"
   ]
  },
  {
   "cell_type": "code",
   "execution_count": 80,
   "metadata": {},
   "outputs": [
    {
     "name": "stdout",
     "output_type": "stream",
     "text": [
      "Mehrstellen 4 Full 3D expansion with 4 terms meets error tolerance for n >= 23\n"
     ]
    }
   ],
   "source": [
    "###\n",
    "# Combined Mehrstellen 4 3D Expansion\n",
    "###\n",
    "stencil = ExpandLGF.Mehrstellen4()\n",
    "\n",
    "meh4_full_3d_nterms = 4\n",
    "meh4_full_3d_expand = ExpandLGF.far_field_expansion_coeffs(stencil, meh4_full_3d_nterms + 1, PR3)\n",
    "meh4_full_3d_cutoff = ExpandLGF.far_field_errors(meh4_full_3d_expand; rtol = rtol, atol = atol, search = 500)\n",
    "meh4_full_3d_ccode  = ExpandLGF.far_field_3d_expansion(meh4_full_3d_expand[1:end-1], Symbolics.CTarget())\n",
    "\n",
    "println(\"Mehrstellen 4 Full 3D expansion with $(meh4_full_3d_nterms) terms meets error tolerance for n >= $(meh4_full_3d_cutoff)\")"
   ]
  },
  {
   "cell_type": "code",
   "execution_count": 81,
   "metadata": {},
   "outputs": [
    {
     "name": "stdout",
     "output_type": "stream",
     "text": [
      "Mehrstellen 6 Full 3D expansion with 4 terms meets error tolerance for n >= 19\n"
     ]
    }
   ],
   "source": [
    "###\n",
    "# Combined Mehrstellen 6 3D Expansion\n",
    "###\n",
    "stencil = ExpandLGF.Mehrstellen6()\n",
    "\n",
    "meh6_full_3d_nterms = 4\n",
    "meh6_full_3d_expand = ExpandLGF.far_field_expansion_coeffs(stencil, meh6_full_3d_nterms + 1, PR3)\n",
    "meh6_full_3d_cutoff = ExpandLGF.far_field_errors(meh6_full_3d_expand; rtol = rtol, atol = atol, search = 500)\n",
    "meh6_full_3d_ccode  = ExpandLGF.far_field_3d_expansion(meh6_full_3d_expand[1:end-1], Symbolics.CTarget())\n",
    "\n",
    "println(\"Mehrstellen 6 Full 3D expansion with $(meh6_full_3d_nterms) terms meets error tolerance for n >= $(meh6_full_3d_cutoff)\")"
   ]
  },
  {
   "attachments": {},
   "cell_type": "markdown",
   "metadata": {},
   "source": [
    "### Assemble all generated functions into a single `.cpp`"
   ]
  },
  {
   "cell_type": "code",
   "execution_count": 82,
   "metadata": {},
   "outputs": [],
   "source": [
    "header_string = \"#include <math.h>\\n\"\n",
    "\n",
    "function collect_std_pow(cfun, nvars, max_exponent)\n",
    "    power_prefix = \"\"\n",
    "    for var in 1:nvars\n",
    "        for exp in 4:2:max_exponent\n",
    "            substr = \"pow(n$(var), $(exp))\"\n",
    "            newstr = \"n$(var)_$(exp)\"\n",
    "            if occursin(substr, cfun)\n",
    "                power_prefix *= \"  const double $(newstr) = $(substr);\\n\"\n",
    "                cfun = replace(cfun, substr => newstr)\n",
    "            end\n",
    "        end\n",
    "    end\n",
    "    return replace(cfun, \"  G[0]\" => power_prefix * \"  G[0]\")\n",
    "end\n",
    "\n",
    "function clean_2d_ccode(cfun, fname)\n",
    "    cfun = collect_std_pow(cfun, 2, 40)\n",
    "    return replace(cfun, \"lgf\" => fname, header_string => \"\\n\")\n",
    "    # return replace(out, \"G[0]\" => \"const double n = sqrt(n1*n1 + n2*n2);\\n  G[0]\")\n",
    "end\n",
    "\n",
    "function clean_3d_ccode(cfun, fname)\n",
    "    cfun = collect_std_pow(cfun, 3, 40)\n",
    "    return replace(cfun, \"lgf\" => fname, header_string => \"\\n\")\n",
    "    # replace(out, \"G[0]\" => \"const double n = sqrt(n1*n1 + n2*n2 + n3*n3);\\n  G[0]\")\n",
    "end\n",
    "\n",
    "outfile = header_string * \"\\n\";\n",
    "\n",
    "outfile *= clean_3d_ccode(lgf2_3d_ccode, \"lgf_2_3unb0spe_expansion\")\n",
    "outfile *= clean_3d_ccode(lgf4_3d_ccode, \"lgf_4_3unb0spe_expansion\")\n",
    "outfile *= clean_3d_ccode(lgf6_3d_ccode, \"lgf_6_3unb0spe_expansion\")\n",
    "outfile *= clean_3d_ccode(lgf8_3d_ccode, \"lgf_8_3unb0spe_expansion\")\n",
    "\n",
    "outfile *= clean_2d_ccode(lgf2_2d_ccode, \"lgf_2_2unb0spe_expansion\")\n",
    "outfile *= clean_2d_ccode(lgf4_2d_ccode, \"lgf_4_2unb0spe_expansion\")\n",
    "outfile *= clean_2d_ccode(lgf6_2d_ccode, \"lgf_6_2unb0spe_expansion\")\n",
    "outfile *= clean_2d_ccode(lgf8_2d_ccode, \"lgf_8_2unb0spe_expansion\")\n",
    "\n",
    "outfile *= clean_3d_ccode(meh4_left_3d_ccode, \"mehr_4l_3unb0spe_expansion\")\n",
    "outfile *= clean_3d_ccode(meh6_left_3d_ccode, \"mehr_6l_3unb0spe_expansion\")\n",
    "outfile *= clean_3d_ccode(meh4_full_3d_ccode, \"mehr_4f_3unb0spe_expansion\")\n",
    "outfile *= clean_3d_ccode(meh6_full_3d_ccode, \"mehr_6f_3unb0spe_expansion\")\n",
    "\n",
    "io = open(\"../flups/lgf_generated.hpp\", \"w\");\n",
    "    write(io, outfile);\n",
    "close(io);"
   ]
  },
  {
   "cell_type": "code",
   "execution_count": null,
   "metadata": {},
   "outputs": [],
   "source": []
  }
 ],
 "metadata": {
  "kernelspec": {
   "display_name": "Julia 1.8.0",
   "language": "julia",
   "name": "julia-1.8"
  },
  "language_info": {
   "file_extension": ".jl",
   "mimetype": "application/julia",
   "name": "julia",
   "version": "1.8.0"
  },
  "orig_nbformat": 4,
  "vscode": {
   "interpreter": {
    "hash": "b0fa6594d8f4cbf19f97940f81e996739fb7646882a419484c72d19e05852a7e"
   }
  }
 },
 "nbformat": 4,
 "nbformat_minor": 2
}
