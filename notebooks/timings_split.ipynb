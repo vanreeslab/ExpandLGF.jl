{
 "cells": [
  {
   "cell_type": "code",
   "execution_count": 5,
   "metadata": {},
   "outputs": [],
   "source": [
    "using ExpandLGF\n",
    "using OffsetArrays\n",
    "include(\"../test/test_utils.jl\");"
   ]
  },
  {
   "attachments": {},
   "cell_type": "markdown",
   "metadata": {},
   "source": [
    "Time the evaluation of near-field LGF entries for dimension-split stencils using a combination of quadratue and series expansion. \n",
    "\n",
    "Times are reported for the generation of expansions via symbolic computation, the evalution of near-field values using combined quadrature and expansion, and the evaluation of far-field values using a separate series expansion."
   ]
  },
  {
   "cell_type": "code",
   "execution_count": 2,
   "metadata": {},
   "outputs": [
    {
     "data": {
      "text/plain": [
       "1.0e-15"
      ]
     },
     "execution_count": 2,
     "metadata": {},
     "output_type": "execute_result"
    }
   ],
   "source": [
    "###\n",
    "# Parameters\n",
    "###\n",
    "N = 64            # Time evaluation on [0, N]^3\n",
    "M = 128           # Test residual on [0, M]^3\n",
    "near_terms = 10   # terms in near-field expansions\n",
    "far_terms = 8     # terms in far-field expansion\n",
    "rtol = 0          # relative tolerance on evaluations\n",
    "atol = 1e-15      # absolute tolerance on evaluations"
   ]
  },
  {
   "cell_type": "code",
   "execution_count": 3,
   "metadata": {},
   "outputs": [
    {
     "data": {
      "text/plain": [
       "get_timings (generic function with 1 method)"
      ]
     },
     "execution_count": 3,
     "metadata": {},
     "output_type": "execute_result"
    }
   ],
   "source": [
    "\n",
    "function get_timings(name, stencil)\n",
    "\n",
    "    ###\n",
    "    # Time the generation of all the expansion objects\n",
    "    ###\n",
    "    expansion_time = @elapsed begin\n",
    "        ELGF = ExpandLGF.EvaluateLGF(stencil, near_terms, far_terms, rtol, atol)\n",
    "        nmax = ExpandLGF.near_cutoff(ELGF)\n",
    "        NF = ExpandLGF.near_field(ELGF)\n",
    "        FF = ExpandLGF.far_field(ELGF)\n",
    "    end\n",
    "\n",
    "    ###\n",
    "    # Time the near and far field evaluations\n",
    "    ###\n",
    "    lgf = OffsetArray(zeros(Float64, (N, N, N)), 0:N-1, 0:N-1, 0:N-1)\n",
    "    evaluation_indices = sorted_indices_3D(N-1)\n",
    "    near_field_indices = collect(n for n in evaluation_indices if sum(n.^2) < nmax^2)\n",
    "    far_field_indices = collect(n for n in evaluation_indices if sum(n.^2) >= nmax^2)\n",
    "\n",
    "    println(\"Evaluating near-field for $(name)\")\n",
    "    println(\"$(stencil)\")\n",
    "    println(\"Total near-field evaluations: $(length(near_field_indices)) for points with |n| < $(nmax)\")\n",
    "    println(\"Total far-field evaluations: $(length(far_field_indices)) for points with |n| ≥ $(nmax)\")\n",
    "\n",
    "    near_field_time = @elapsed for index in near_field_indices\n",
    "        lgf[index...] = NF(index)\n",
    "    end\n",
    "\n",
    "    far_field_time = @elapsed for index in far_field_indices\n",
    "        lgf[index...] = FF(index)\n",
    "    end\n",
    "\n",
    "    println(\"$(expansion_time)s for expansion setup\")\n",
    "    println(\"$(near_field_time)s for near field\")\n",
    "    println(\"$(far_field_time)s for far field\")\n",
    "\n",
    "    ###\n",
    "    # Build a larger block of size M^3\n",
    "    ###\n",
    "    filled_block = generate_full_test_block(stencil, lgf)\n",
    "    test_block = OffsetArray(zeros(Float64, (M + 1, M + 1, M + 1)), 0:M, 0:M, 0:M)\n",
    "    test_block[0:N-1, 0:N-1, 0:N-1] = filled_block[0:N-1, 0:N-1, 0:N-1]\n",
    "\n",
    "    FF_flups = ExpandLGF.FarField(stencil, 4)\n",
    "    for n in CartesianIndices(test_block)\n",
    "        n = Tuple(n)\n",
    "        if maximum(n) >= N\n",
    "            test_block[n...] = FF_flups([n...])\n",
    "        end\n",
    "    end\n",
    "\n",
    "    ###\n",
    "    # Evaluate the max residual on the larger block\n",
    "    ###\n",
    "    residual = apply_stencil(stencil, test_block)\n",
    "    handle_origin!(residual)\n",
    "    max_residual, index = findmax(abs, residual)\n",
    "    @printf(\"Max residual in test block of size [0, %d]^3: %1.3e\", M, max_residual)\n",
    "    print(\" at index $(Tuple(index))\\n\\n\")\n",
    "\n",
    "end"
   ]
  },
  {
   "cell_type": "code",
   "execution_count": 4,
   "metadata": {},
   "outputs": [
    {
     "name": "stdout",
     "output_type": "stream",
     "text": [
      "Evaluating near-field for LGF2\n",
      "3D SplitStencil with coefficients Rational{Int64}[1//1]\n",
      "Total near-field evaluations: 779 for points with |n| < 19\n",
      "Total far-field evaluations: 44981 for points with |n| ≥ 19\n",
      "12.9054315s for expansion setup\n",
      "8.839778959s for near field\n",
      "1.585461875s for far field\n",
      "Max residual in test block of size [0, 128]^3: 2.255e-15 at index (19, 2, 2)\n",
      "\n",
      "Evaluating near-field for LGF2\n",
      "3D SplitStencil with coefficients Rational{Int64}[1//1]\n",
      "Total near-field evaluations: 779 for points with |n| < 19\n",
      "Total far-field evaluations: 44981 for points with |n| ≥ 19\n",
      "6.720603417s for expansion setup\n",
      "5.757737083s for near field\n",
      "0.3258195s for far field\n",
      "Max residual in test block of size [0, 128]^3: 2.255e-15 at index (19, 2, 2)\n",
      "\n",
      "Evaluating near-field for LGF4\n",
      "3D SplitStencil with coefficients Rational{Int64}[4//3, -1//12]\n",
      "Total near-field evaluations: 672 for points with |n| < 18\n",
      "Total far-field evaluations: 45088 for points with |n| ≥ 18\n",
      "6.714544042s for expansion setup\n",
      "7.62807825s for near field\n",
      "1.63661375s for far field\n",
      "Max residual in test block of size [0, 128]^3: 2.593e-15 at index (10, 14, 6)\n",
      "\n",
      "Evaluating near-field for LGF6\n",
      "3D SplitStencil with coefficients Rational{Int64}[3//2, -3//20, 1//90]\n",
      "Total near-field evaluations: 672 for points with |n| < 18\n",
      "Total far-field evaluations: 45088 for points with |n| ≥ 18\n",
      "6.3827875s for expansion setup\n",
      "8.222302958s for near field\n",
      "1.528208292s for far field\n",
      "Max residual in test block of size [0, 128]^3: 2.698e-16 at index (5, 4, 17)\n",
      "\n",
      "Evaluating near-field for LGF8\n",
      "3D SplitStencil with coefficients Rational{Int64}[8//5, -1//5, 8//315, -1//560]\n",
      "Total near-field evaluations: 672 for points with |n| < 18\n",
      "Total far-field evaluations: 45088 for points with |n| ≥ 18\n",
      "5.42234s for expansion setup\n",
      "9.560362958s for near field\n",
      "1.417654542s for far field\n",
      "Max residual in test block of size [0, 128]^3: 2.421e-15 at index (13, 9, 9)\n",
      "\n"
     ]
    }
   ],
   "source": [
    "###\n",
    "# Print timing results for each stencil\n",
    "###\n",
    "# Includes an extra LGF2 to avoid timing precompilation in later runs\n",
    "names = \"LGF\" .* string.([2, 2, 4, 6, 8]) \n",
    "stencils = ExpandLGF.StandardDifference3D.([2, 2, 4, 6, 8])\n",
    "\n",
    "for (name, stencil) in zip(names, stencils)\n",
    "    get_timings(name, stencil)\n",
    "end"
   ]
  },
  {
   "attachments": {},
   "cell_type": "markdown",
   "metadata": {},
   "source": []
  }
 ],
 "metadata": {
  "kernelspec": {
   "display_name": "Julia 1.8.0",
   "language": "julia",
   "name": "julia-1.8"
  },
  "language_info": {
   "file_extension": ".jl",
   "mimetype": "application/julia",
   "name": "julia",
   "version": "1.8.0"
  },
  "orig_nbformat": 4
 },
 "nbformat": 4,
 "nbformat_minor": 2
}
