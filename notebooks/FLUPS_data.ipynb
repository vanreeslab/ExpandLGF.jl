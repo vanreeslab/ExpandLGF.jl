{
 "cells": [
  {
   "cell_type": "code",
   "execution_count": null,
   "metadata": {},
   "outputs": [],
   "source": [
    "include(\"../test/test_utils.jl\")\n",
    "using ExpandLGF\n",
    "using OffsetArrays\n",
    "using Printf\n",
    "using ThreadPools"
   ]
  },
  {
   "attachments": {},
   "cell_type": "markdown",
   "metadata": {},
   "source": [
    "### Common Parameters"
   ]
  },
  {
   "cell_type": "code",
   "execution_count": null,
   "metadata": {},
   "outputs": [],
   "source": [
    "split_stencils_3D = ExpandLGF.StandardDifference3D.([2, 4, 6, 8])\n",
    "split_stencils_2D = ExpandLGF.StandardDifference2D.([2, 4, 6, 8])\n",
    "left_mehrstellen_stencils = [ExpandLGF.LeftMehrstellen4(), ExpandLGF.LeftMehrstellen6()]\n",
    "full_mehrstellen_stencils = [ExpandLGF.Mehrstellen4(), ExpandLGF.Mehrstellen6()]\n",
    "\n",
    "split_stencil_names = [\"LGF_2\", \"LGF_4\", \"LGF_6\", \"LGF_8\"]\n",
    "mehrstellen_names = [\"MEH_4\", \"MEH_6\"]\n",
    "\n",
    "mkpath(\"../flups\");\n",
    "\n",
    "println(\"Calculating LGF values with $(Threads.nthreads()) threads.\")"
   ]
  },
  {
   "attachments": {},
   "cell_type": "markdown",
   "metadata": {},
   "source": [
    "### 3D Data Files"
   ]
  },
  {
   "cell_type": "code",
   "execution_count": null,
   "metadata": {},
   "outputs": [],
   "source": [
    "N = 32\n",
    "near_terms = 12\n",
    "far_terms = 8\n",
    "rtol = 0\n",
    "atol = 5e-16\n",
    "\n",
    "for (stencil, name) in zip(split_stencils_3D, split_stencil_names)\n",
    "\n",
    "    ELGF = ExpandLGF.EvaluateLGF(stencil, near_terms, far_terms, rtol, atol)\n",
    "    lgf = OffsetArray(zeros(Float64, (N, N, N)), 0:N-1, 0:N-1, 0:N-1)\n",
    "    evaluation_indices = sorted_indices_3D(N-1)\n",
    "\n",
    "    println(\"Evaluating $(name) for indices [0, $(N-1)]^3 ... \")\n",
    "    println(\"Total evaluations: $(length(evaluation_indices))\")\n",
    "    println(\"Using quadrature for |n| < $(ELGF.rad_)\")\n",
    "\n",
    "    @time ThreadPools.@qthreads for index in evaluation_indices\n",
    "        lgf[index...] = ELGF(index)\n",
    "    end\n",
    "\n",
    "    # Build test array and evaluate the residual\n",
    "    test = generate_full_test_block(stencil, lgf)\n",
    "    residual = apply_stencil(stencil, test)\n",
    "    handle_origin!(residual)\n",
    "    max_residual, index = findmax(abs, residual)\n",
    "    @printf(\"Max residual: %1.3e\", max_residual)\n",
    "    print(\" at index $(Tuple(index))\\n\\n\")\n",
    "\n",
    "    # Build a full data array and write to file\n",
    "    out = test[0:N-1, 0:N-1, 0:N-1]\n",
    "    open(\"../flups/$(name)_3d_$(N).ker\", \"w\") do file\n",
    "        write(file, out)\n",
    "    end\n",
    "end"
   ]
  },
  {
   "attachments": {},
   "cell_type": "markdown",
   "metadata": {},
   "source": [
    "### 2D Data Files\n",
    "In 2D the Far-Field expansion is defined up to constant, which can be determined in one of two ways:\n",
    " 1. by matching the near-field and far-field expansion values at a point where both are sufficiently accurate\n",
    " 2. by evaluating a singular integral with high precision\n",
    "\n",
    "Here we choose the former strategy, which is handled automatically by the `ExpandLGF` structure. To translate this into C code, the tabulated data is offset by this constant, and the far-field expansion is implemented without an offset."
   ]
  },
  {
   "cell_type": "code",
   "execution_count": null,
   "metadata": {},
   "outputs": [],
   "source": [
    "N = 32\n",
    "near_terms = 12\n",
    "far_terms = 8\n",
    "rtol = 0\n",
    "atol = 1e-15\n",
    "\n",
    "for (stencil, name) in zip(split_stencils_2D, split_stencil_names)\n",
    "\n",
    "    ELGF = ExpandLGF.EvaluateLGF(stencil, near_terms, far_terms, rtol, atol)\n",
    "    lgf = OffsetArray(zeros(Float64, (N, N)), 0:N-1, 0:N-1)\n",
    "    evaluation_indices = sorted_indices_2D(N-1)\n",
    "\n",
    "    println(\"Evaluating $(name) for indices [0, $(N-1)]^2 ... \")\n",
    "    println(\"Total evaluations: $(length(evaluation_indices))\")\n",
    "    println(\"Using quadrature for |n| < $(ELGF.rad_)\")\n",
    "\n",
    "    @time ThreadPools.@qthreads for index in evaluation_indices\n",
    "        lgf[index...] = ELGF(index)\n",
    "    end\n",
    "\n",
    "    # Build test array and evaluate the residual\n",
    "    test = generate_full_test_block(stencil, lgf)\n",
    "    residual = apply_stencil(stencil, test)\n",
    "    handle_origin!(residual)\n",
    "    max_residual, index = findmax(abs, residual)\n",
    "    @printf(\"Max residual: %1.3e\", max_residual)\n",
    "    print(\" at index $(Tuple(index))\\n\\n\")\n",
    "\n",
    "    out = test[0:N-1, 0:N-1]\n",
    "    open(\"../flups/$(name)_2d_$(N).ker\", \"w\") do file\n",
    "        write(file, out)\n",
    "    end\n",
    "end"
   ]
  },
  {
   "attachments": {},
   "cell_type": "markdown",
   "metadata": {},
   "source": [
    "### Mehrstellen Data Files"
   ]
  },
  {
   "attachments": {},
   "cell_type": "markdown",
   "metadata": {},
   "source": [
    "The Mehrstellen stencils are not dimension-split, so near-field entries must be handled directly with quadrature. For efficiency this is done using a thread pool, but the code below may take up to two hours to run on four threads. "
   ]
  },
  {
   "cell_type": "code",
   "execution_count": null,
   "metadata": {},
   "outputs": [],
   "source": [
    "###\n",
    "# Left Mehrstellen Stencils\n",
    "###\n",
    "N = 64\n",
    "far_terms = 8\n",
    "rtol = 0\n",
    "atol = 1e-13\n",
    "maxevals = 10^11\n",
    "\n",
    "for (stencil, name) in zip(left_mehrstellen_stencils, mehrstellen_names)\n",
    "\n",
    "    # Integrate to get indices i1 >= i2 >= i3\n",
    "    ELGF = ExpandLGF.EvaluateLGF(stencil, far_terms, rtol, atol, maxevals)\n",
    "    lgf = OffsetArray(zeros(Float64, (N, N, N)), 0:N-1, 0:N-1, 0:N-1)\n",
    "    evaluation_indices = sorted_indices_3D(N-1)\n",
    "\n",
    "    println(\"Total evaluations: $(length(evaluation_indices))\")\n",
    "    println(\"Evaluating $(name) for indices [0, $(N-1)]^3 ... \")\n",
    "    println(\"Using quadrature for |n| < $(ELGF.rad_)\")\n",
    "\n",
    "    @time ThreadPools.@qthreads for index in evaluation_indices\n",
    "        # println(\"Calculating index $(index) on thread $(Threads.threadid())\")\n",
    "        lgf[index...] = ELGF(index)\n",
    "    end\n",
    "    \n",
    "    # Build test array and evaluate the residual\n",
    "    test = generate_full_test_block(stencil, lgf)\n",
    "    residual = apply_stencil(stencil, test)\n",
    "    handle_origin!(residual, stencil)\n",
    "    max_residual, index = findmax(abs, residual)\n",
    "    @printf(\"Max residual: %1.3e\", max_residual)\n",
    "    print(\" at index $(Tuple(index))\\n\\n\")\n",
    "\n",
    "    # Build a full data array and write to file\n",
    "    out = test[0:N-1, 0:N-1, 0:N-1]\n",
    "    open(\"../flups/$(name)_left_3d_$(N).ker\", \"w\") do file\n",
    "        write(file, out)\n",
    "    end\n",
    "end"
   ]
  },
  {
   "cell_type": "code",
   "execution_count": null,
   "metadata": {},
   "outputs": [],
   "source": [
    "###\n",
    "# Full Mehrstellen Stencils\n",
    "###\n",
    "N = 64\n",
    "far_terms = 8\n",
    "rtol = 0\n",
    "atol = 1e-10\n",
    "maxevals = 10^11\n",
    "\n",
    "for (stencil, name) in zip(full_mehrstellen_stencils, mehrstellen_names)\n",
    "\n",
    "    # Integrate to get indices i1 >= i2 >= i3\n",
    "    ELGF = ExpandLGF.EvaluateLGF(stencil, far_terms, rtol, atol, maxevals)\n",
    "    lgf = OffsetArray(zeros(Float64, (N, N, N)), 0:N-1, 0:N-1, 0:N-1)\n",
    "    evaluation_indices = sorted_indices_3D(N-1)\n",
    "\n",
    "    println(\"Evaluating $(name) for indices [0, $(N-1)]^3 ... \")\n",
    "    println(\"Total evaluations: $(length(evaluation_indices))\")\n",
    "    println(\"Using quadrature for |n| < $(ELGF.rad_)\")\n",
    "\n",
    "    @time ThreadPools.@qthreads for index in evaluation_indices\n",
    "        # println(\"Calculating index $(index) on thread $(Threads.threadid())\")\n",
    "        lgf[index...] = ELGF(index)\n",
    "    end\n",
    "    \n",
    "    # Build test array and evaluate the residual\n",
    "    test = generate_full_test_block(ExpandLGF.left_stencil(stencil), lgf)\n",
    "    residual = apply_stencil(ExpandLGF.left_stencil(stencil), test)\n",
    "    handle_origin!(residual, stencil)\n",
    "    max_residual, index = findmax(abs, residual)\n",
    "    @printf(\"Max residual: %1.3e\", max_residual)\n",
    "    print(\" at index $(Tuple(index))\\n\\n\")\n",
    "\n",
    "    # Build a full data array and write to file\n",
    "    out = test[0:N-1, 0:N-1, 0:N-1]\n",
    "    open(\"../flups/$(name)_full_3d_$(N).ker\", \"w\") do file\n",
    "        write(file, out)\n",
    "    end\n",
    "end"
   ]
  },
  {
   "cell_type": "code",
   "execution_count": null,
   "metadata": {},
   "outputs": [],
   "source": []
  }
 ],
 "metadata": {
  "kernelspec": {
   "display_name": "Julia (4 threads) 1.8.0",
   "language": "julia",
   "name": "julia-(4-threads)-1.8"
  },
  "language_info": {
   "file_extension": ".jl",
   "mimetype": "application/julia",
   "name": "julia",
   "version": "1.8.0"
  },
  "orig_nbformat": 4,
  "vscode": {
   "interpreter": {
    "hash": "b0fa6594d8f4cbf19f97940f81e996739fb7646882a419484c72d19e05852a7e"
   }
  }
 },
 "nbformat": 4,
 "nbformat_minor": 2
}
