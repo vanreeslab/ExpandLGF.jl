{
 "cells": [
  {
   "cell_type": "code",
   "execution_count": 1,
   "metadata": {},
   "outputs": [],
   "source": [
    "using ExpandLGF\n",
    "using OffsetArrays\n",
    "include(\"../test/test_utils.jl\");"
   ]
  },
  {
   "attachments": {},
   "cell_type": "markdown",
   "metadata": {},
   "source": [
    "Time the evaluation of near-field LGF entries for Mehrstellen stencils using a combination of quadratue and series expansion. \n",
    "\n",
    "Times are reported for the generation of far-field expansions via symbolic computation, the evalution of near-field values using numerical quadrature, and the evaluation of far-field values using a series expansion."
   ]
  },
  {
   "cell_type": "code",
   "execution_count": null,
   "metadata": {},
   "outputs": [],
   "source": [
    "###\n",
    "# Parameters\n",
    "###\n",
    "N = 64            # Time evaluation on [0, N]^3\n",
    "M = 128           # Test residual on [0, M]^3\n",
    "near_terms = 10   # terms in near-field expansions\n",
    "far_terms = 8     # terms in far-field expansion\n",
    "rtol = 0          # relative tolerance on evaluations\n",
    "atol = 1e-13      # absolute tolerance on evaluations\n",
    "maxevals = 10^11  # maximum number of quadrature points for each evaluation"
   ]
  },
  {
   "cell_type": "code",
   "execution_count": null,
   "metadata": {},
   "outputs": [],
   "source": [
    "function get_timings(name, stencil)\n",
    "\n",
    "    ###\n",
    "    # Time the generation of all the expansion objects\n",
    "    ###\n",
    "    expansion_time = @elapsed begin\n",
    "        ELGF = ExpandLGF.EvaluateLGF(stencil, far_terms, rtol, atol, maxevals)\n",
    "        nmax = ExpandLGF.near_cutoff(ELGF)\n",
    "        NF = ExpandLGF.near_field(ELGF)\n",
    "        FF = ExpandLGF.far_field(ELGF)\n",
    "    end\n",
    "\n",
    "    ###\n",
    "    # Time the near and far field evaluations\n",
    "    ###\n",
    "    lgf = OffsetArray(zeros(Float64, (N, N, N)), 0:N-1, 0:N-1, 0:N-1)\n",
    "    evaluation_indices = sorted_indices_3D(N-1)\n",
    "    near_field_indices = collect(n for n in evaluation_indices if sum(n.^2) < nmax^2)\n",
    "    far_field_indices = collect(n for n in evaluation_indices if sum(n.^2) >= nmax^2)\n",
    "\n",
    "    println(\"Evaluating near-field for $(name)\")\n",
    "    println(\"$(stencil)\")\n",
    "    println(\"Total near-field evaluations: $(length(near_field_indices)) for points with |n| < $(nmax)\")\n",
    "    println(\"Total far-field evaluations: $(length(far_field_indices)) for points with |n| ≥ $(nmax)\")\n",
    "\n",
    "    near_field_time = @elapsed for index in near_field_indices\n",
    "        lgf[index...] = NF(index)\n",
    "    end\n",
    "\n",
    "    far_field_time = @elapsed for index in far_field_indices\n",
    "        lgf[index...] = FF(index)\n",
    "    end\n",
    "\n",
    "    println(\"$(expansion_time)s for expansion setup\")\n",
    "    println(\"$(near_field_time)s for near field\")\n",
    "    println(\"$(far_field_time)s for far field\")\n",
    "\n",
    "    ###\n",
    "    # Build a larger block of size M^3\n",
    "    ###\n",
    "    filled_block = generate_full_test_block(ExpandLGF.left_stencil(stencil), lgf)\n",
    "    test_block = OffsetArray(zeros(Float64, (M + 1, M + 1, M + 1)), 0:M, 0:M, 0:M)\n",
    "    test_block[0:N-1, 0:N-1, 0:N-1] = filled_block[0:N-1, 0:N-1, 0:N-1]\n",
    "\n",
    "    FF_flups = ExpandLGF.FarField(stencil, 4)\n",
    "    for n in CartesianIndices(test_block)\n",
    "        n = Tuple(n)\n",
    "        if maximum(n) >= N\n",
    "            test_block[n...] = FF_flups([n...])\n",
    "        end\n",
    "    end\n",
    "\n",
    "    ###\n",
    "    # Evaluate the max residual on the larger block\n",
    "    ###\n",
    "    residual = apply_stencil(ExpandLGF.left_stencil(stencil), test_block)\n",
    "    handle_origin!(residual)\n",
    "    max_residual, index = findmax(abs, residual)\n",
    "    @printf(\"Max residual in test block of size [0, %d]^3: %1.3e\", M, max_residual)\n",
    "    print(\" at index $(Tuple(index))\\n\\n\")\n",
    "end"
   ]
  },
  {
   "cell_type": "code",
   "execution_count": null,
   "metadata": {},
   "outputs": [],
   "source": [
    "###\n",
    "# Print timing results for each Mehrstellen stencil\n",
    "###\n",
    "names = \"MEH\" .* string.([4, 6])\n",
    "stencils = [ExpandLGF.Mehrstellen4(), ExpandLGF.Mehrstellen6()]\n",
    "\n",
    "# precompile code used for series expansions\n",
    "ELGF = ExpandLGF.EvaluateLGF(stencils[1], far_terms, rtol, atol, maxevals)\n",
    "\n",
    "for (name, stencil) in zip(names, stencils)\n",
    "    get_timings(name, stencil)\n",
    "end"
   ]
  },
  {
   "attachments": {},
   "cell_type": "markdown",
   "metadata": {},
   "source": [
    "Full output (on a 2021 MacBook Pro with Apple M1 Pro processor)\n",
    "```\n",
    "Evaluating near-field for MEH4\n",
    "ExpandLGF.MehrstellenStencil{3, Rational{Int64}}(ExpandLGF.FullStencil{3, Rational{Int64}}(1, [(0, -1, -1), (-1, 0, -1), (0, 0, -1), (1, 0, -1), (0, 1, -1), (-1, -1, 0), (0, -1, 0), (1, -1, 0), (-1, 0, 0), (0, 0, 0), (1, 0, 0), (-1, 1, 0), (0, 1, 0), (1, 1, 0), (0, -1, 1), (-1, 0, 1), (0, 0, 1), (1, 0, 1), (0, 1, 1)], Rational{Int64}[1//6, 1//6, 1//3, 1//6, 1//6, 1//6, 1//3, 1//6, 1//3, -4//1, 1//3, 1//6, 1//3, 1//6, 1//6, 1//6, 1//3, 1//6, 1//6]), ExpandLGF.FullStencil{3, Rational{Int64}}(1, [(0, 0, -1), (0, -1, 0), (-1, 0, 0), (0, 0, 0), (1, 0, 0), (0, 1, 0), (0, 0, 1)], Rational{Int64}[1//12, 1//12, 1//12, 1//2, 1//12, 1//12, 1//12]))\n",
    "Total near-field evaluations: 141 for points with |n| < 10\n",
    "Total far-field evaluations: 45619 for points with |n| ≥ 10\n",
    "11.665535958s for expansion setup\n",
    "9412.896692792s for near field\n",
    "1.542155833s for far field\n",
    "Max residual in test block of size [0, 128]^3: 1.969e-12 at index (6, 6, 6)\n",
    "\n",
    "Evaluating near-field for MEH6\n",
    "ExpandLGF.MehrstellenStencil{3, Rational{Int64}}(ExpandLGF.FullStencil{3, Rational{Int64}}(1, [(-1, -1, -1), (0, -1, -1), (1, -1, -1), (-1, 0, -1), (0, 0, -1), (1, 0, -1), (-1, 1, -1), (0, 1, -1), (1, 1, -1), (-1, -1, 0), (0, -1, 0), (1, -1, 0), (-1, 0, 0), (0, 0, 0), (1, 0, 0), (-1, 1, 0), (0, 1, 0), (1, 1, 0), (-1, -1, 1), (0, -1, 1), (1, -1, 1), (-1, 0, 1), (0, 0, 1), (1, 0, 1), (-1, 1, 1), (0, 1, 1), (1, 1, 1)], Rational{Int64}[1//30, 1//10, 1//30, 1//10, 7//15, 1//10, 1//30, 1//10, 1//30, 1//10, 7//15, 1//10, 7//15, -64//15, 7//15, 1//10, 7//15, 1//10, 1//30, 1//10, 1//30, 1//10, 7//15, 1//10, 1//30, 1//10, 1//30]), ExpandLGF.FullStencil{3, Rational{Int64}}(2, [(0, 0, -2), (0, -1, -1), (-1, 0, -1), (0, 0, -1), (1, 0, -1), (0, 1, -1), (0, -2, 0), (-1, -1, 0), (0, -1, 0), (1, -1, 0), (-2, 0, 0), (-1, 0, 0), (0, 0, 0), (1, 0, 0), (2, 0, 0), (-1, 1, 0), (0, 1, 0), (1, 1, 0), (0, 2, 0), (0, -1, 1), (-1, 0, 1), (0, 0, 1), (1, 0, 1), (0, 1, 1), (0, 0, 2)], Rational{Int64}[-1//240, 1//90, 1//90, 1//18, 1//90, 1//90, -1//240, 1//90, 1//18, 1//90, -1//240, 1//18, 67//120, 1//18, -1//240, 1//90, 1//18, 1//90, -1//240, 1//90, 1//90, 1//18, 1//90, 1//90, -1//240]))\n",
    "Total near-field evaluations: 106 for points with |n| < 9\n",
    "Total far-field evaluations: 45654 for points with |n| ≥ 9\n",
    "13.852254375s for expansion setup\n",
    "6264.964332s for near field\n",
    "1.483771542s for far field\n",
    "Max residual in test block of size [0, 128]^3: 8.090e-13 at index (4, 1, 8)\n",
    "```\n"
   ]
  }
 ],
 "metadata": {
  "kernelspec": {
   "display_name": "Julia 1.8.0",
   "language": "julia",
   "name": "julia-1.8"
  },
  "language_info": {
   "file_extension": ".jl",
   "mimetype": "application/julia",
   "name": "julia",
   "version": "1.8.0"
  },
  "orig_nbformat": 4
 },
 "nbformat": 4,
 "nbformat_minor": 2
}
